{
 "cells": [
  {
   "cell_type": "code",
   "execution_count": 1,
   "metadata": {
    "collapsed": true
   },
   "outputs": [],
   "source": [
    "import re"
   ]
  },
  {
   "cell_type": "code",
   "execution_count": 2,
   "metadata": {
    "collapsed": false
   },
   "outputs": [
    {
     "ename": "NameError",
     "evalue": "name 'pattern' is not defined",
     "output_type": "error",
     "traceback": [
      "\u001b[0;31m---------------------------------------------------------------------------\u001b[0m",
      "\u001b[0;31mNameError\u001b[0m                                 Traceback (most recent call last)",
      "\u001b[0;32m<ipython-input-2-5b27756a17da>\u001b[0m in \u001b[0;36m<module>\u001b[0;34m()\u001b[0m\n\u001b[0;32m----> 1\u001b[0;31m \u001b[0mre\u001b[0m\u001b[0;34m.\u001b[0m\u001b[0msearch\u001b[0m\u001b[0;34m(\u001b[0m\u001b[0mpattern\u001b[0m\u001b[0;34m,\u001b[0m \u001b[0mstring\u001b[0m\u001b[0;34m)\u001b[0m\u001b[0;34m\u001b[0m\u001b[0m\n\u001b[0m",
      "\u001b[0;31mNameError\u001b[0m: name 'pattern' is not defined"
     ]
    }
   ],
   "source": [
    "re.search(pattern, string)"
   ]
  },
  {
   "cell_type": "code",
   "execution_count": 3,
   "metadata": {
    "collapsed": false
   },
   "outputs": [
    {
     "name": "stdout",
     "output_type": "stream",
     "text": [
      "\\t\\n\n"
     ]
    }
   ],
   "source": [
    "print(r\"\\t\\n\")"
   ]
  },
  {
   "cell_type": "code",
   "execution_count": 4,
   "metadata": {
    "collapsed": false
   },
   "outputs": [
    {
     "name": "stdout",
     "output_type": "stream",
     "text": [
      "restriction site found!\n"
     ]
    }
   ],
   "source": [
    "dna = \"ATCGCGAATTCAC\"\n",
    "if re.search(r\"GAATTC\", dna):\n",
    "    print(\"restriction site found!\")"
   ]
  },
  {
   "cell_type": "code",
   "execution_count": 5,
   "metadata": {
    "collapsed": true
   },
   "outputs": [],
   "source": [
    "dna = \"ATCGCGAATTCAC\"\n",
    "if re.search(r\"GGACC\", dna) or re.search(r\"GGTCC\", dna):\n",
    "    print(\"restriction site found!\")"
   ]
  },
  {
   "cell_type": "code",
   "execution_count": 6,
   "metadata": {
    "collapsed": true
   },
   "outputs": [],
   "source": [
    "dna = \"ATCGCGAATTCAC\"\n",
    "if re.search(r\"GG(A|T)CC\", dna):\n",
    "    print(\"restriction site found!\")"
   ]
  },
  {
   "cell_type": "code",
   "execution_count": 7,
   "metadata": {
    "collapsed": true
   },
   "outputs": [],
   "source": [
    "dna = \"ATCGCGAATTCAC\"\n",
    "if re.search(r\"GC(A|T|G|C)GC\", dna):\n",
    "    print(\"restriction site found!\")\n"
   ]
  },
  {
   "cell_type": "code",
   "execution_count": 8,
   "metadata": {
    "collapsed": true
   },
   "outputs": [],
   "source": [
    "dna = \"ATCGCGAATTCAC\"\n",
    "if re.search(r\"GC[ATGC]GC\", dna):\n",
    "    print(\"restriction site found!\")"
   ]
  },
  {
   "cell_type": "code",
   "execution_count": 9,
   "metadata": {
    "collapsed": false
   },
   "outputs": [
    {
     "name": "stdout",
     "output_type": "stream",
     "text": [
      "GACGTAC\n"
     ]
    }
   ],
   "source": [
    "dna = \"ATGACGTACGTACGACTG\"\n",
    "# store the match object in the variable m\n",
    "m = re.search(r\"GA[ATGC]{3}AC\", dna)\n",
    "print(m.group())"
   ]
  },
  {
   "cell_type": "code",
   "execution_count": 10,
   "metadata": {
    "collapsed": false
   },
   "outputs": [
    {
     "name": "stdout",
     "output_type": "stream",
     "text": [
      "entire match: GACGTACGTAC\n",
      "first bit: CGT\n",
      "second bit: GT\n"
     ]
    }
   ],
   "source": [
    "dna = \"ATGACGTACGTACGACTG\"\n",
    "# store the match object in the variable m\n",
    "m = re.search(r\"GA([ATGC]{3})AC([ATGC]{2})AC\", dna)\n",
    "print(\"entire match: \" + m.group())\n",
    "print(\"first bit: \" + m.group(1))\n",
    "print(\"second bit: \" + m.group(2))"
   ]
  },
  {
   "cell_type": "code",
   "execution_count": 11,
   "metadata": {
    "collapsed": false
   },
   "outputs": [
    {
     "name": "stdout",
     "output_type": "stream",
     "text": [
      "start: 2\n",
      "end: 13\n"
     ]
    }
   ],
   "source": [
    "dna = \"ATGACGTACGTACGACTG\"\n",
    "m = re.search(r\"GA([ATGC]{3})AC([ATGC]{2})AC\", dna)\n",
    "print(\"start: \" + str(m.start()))\n",
    "print(\"end: \" + str(m.end()))"
   ]
  },
  {
   "cell_type": "code",
   "execution_count": 12,
   "metadata": {
    "collapsed": false
   },
   "outputs": [
    {
     "name": "stdout",
     "output_type": "stream",
     "text": [
      "start: 2\n",
      "end: 13\n",
      "group one start: 4\n",
      "group one end: 7\n",
      "group two start: 9\n",
      "group two end: 11\n"
     ]
    }
   ],
   "source": [
    "dna = \"ATGACGTACGTACGACTG\"\n",
    "m = re.search(r\"GA([ATGC]{3})AC([ATGC]{2})AC\", dna)\n",
    "print(\"start: \" + str(m.start()))\n",
    "print(\"end: \" + str(m.end()))\n",
    "print(\"group one start: \" + str(m.start(1)))\n",
    "print(\"group one end: \" + str(m.end(1)))\n",
    "print(\"group two start: \" + str(m.start(2)))\n",
    "print(\"group two end: \" + str(m.end(2)))"
   ]
  },
  {
   "cell_type": "code",
   "execution_count": 13,
   "metadata": {
    "collapsed": false
   },
   "outputs": [
    {
     "name": "stdout",
     "output_type": "stream",
     "text": [
      "['ACT', 'GCAT', 'GCTACGT', 'ACGAT', 'CGA', 'TCG']\n"
     ]
    }
   ],
   "source": [
    "dna = \"ACTNGCATRGCTACGTYACGATSCGAWTCG\"\n",
    "runs = re.split(r\"[^ATGC]\", dna)\n",
    "print(runs)"
   ]
  },
  {
   "cell_type": "code",
   "execution_count": 14,
   "metadata": {
    "collapsed": false
   },
   "outputs": [
    {
     "name": "stdout",
     "output_type": "stream",
     "text": [
      "['ATTATAT', 'AAATTATA']\n"
     ]
    }
   ],
   "source": [
    "dna = \"ACTGCATTATATCGTACGAAATTATACGCGCG\"\n",
    "runs = re.findall(r\"[AT]{4,100}\", dna)\n",
    "print(runs)"
   ]
  },
  {
   "cell_type": "code",
   "execution_count": 15,
   "metadata": {
    "collapsed": false
   },
   "outputs": [
    {
     "name": "stdout",
     "output_type": "stream",
     "text": [
      "AT rich region from 5 to 12\n",
      "AT rich region from 18 to 26\n"
     ]
    }
   ],
   "source": [
    "dna = \"ACTGCATTATATCGTACGAAATTATACGCGCG\"\n",
    "runs = re.finditer(r\"[AT]{3,100}\", dna)\n",
    "for match in runs:\n",
    "    run_start = match.start()\n",
    "    run_end = match.end()\n",
    "    print(\"AT rich region from \" + str(run_start) + \" to \" + str(run_end))"
   ]
  },
  {
   "cell_type": "code",
   "execution_count": 16,
   "metadata": {
    "collapsed": false
   },
   "outputs": [
    {
     "ename": "SyntaxError",
     "evalue": "unexpected EOF while parsing (<ipython-input-16-4ea36fe3684f>, line 4)",
     "output_type": "error",
     "traceback": [
      "\u001b[0;36m  File \u001b[0;32m\"<ipython-input-16-4ea36fe3684f>\"\u001b[0;36m, line \u001b[0;32m4\u001b[0m\n\u001b[0;31m    # print if it passes the test\u001b[0m\n\u001b[0m                                 ^\u001b[0m\n\u001b[0;31mSyntaxError\u001b[0m\u001b[0;31m:\u001b[0m unexpected EOF while parsing\n"
     ]
    }
   ],
   "source": [
    "accs = [\"xkn59438\", \"yhdck2\", \"eihd39d9\", \"chdsye847\", \"hedle3455\",\n",
    "\"xjhd53e\", \"45da\", \"de37dp\"]\n",
    "for acc in accs:\n",
    "    # print if it passes the test"
   ]
  },
  {
   "cell_type": "code",
   "execution_count": 17,
   "metadata": {
    "collapsed": false
   },
   "outputs": [
    {
     "ename": "SyntaxError",
     "evalue": "unexpected EOF while parsing (<ipython-input-17-a16accff5bd3>, line 4)",
     "output_type": "error",
     "traceback": [
      "\u001b[0;36m  File \u001b[0;32m\"<ipython-input-17-a16accff5bd3>\"\u001b[0;36m, line \u001b[0;32m4\u001b[0m\n\u001b[0;31m    # print (\"if it passes the test\")\u001b[0m\n\u001b[0m                                     ^\u001b[0m\n\u001b[0;31mSyntaxError\u001b[0m\u001b[0;31m:\u001b[0m unexpected EOF while parsing\n"
     ]
    }
   ],
   "source": [
    "accs = [\"xkn59438\", \"yhdck2\", \"eihd39d9\", \"chdsye847\", \"hedle3455\",\n",
    "\"xjhd53e\", \"45da\", \"de37dp\"]\n",
    "for acc in accs:\n",
    "    # print (\"if it passes the test\")\n"
   ]
  },
  {
   "cell_type": "code",
   "execution_count": 18,
   "metadata": {
    "collapsed": false
   },
   "outputs": [
    {
     "ename": "NameError",
     "evalue": "name 'accs' is not defined",
     "output_type": "error",
     "traceback": [
      "\u001b[0;31m---------------------------------------------------------------------------\u001b[0m",
      "\u001b[0;31mNameError\u001b[0m                                 Traceback (most recent call last)",
      "\u001b[0;32m<ipython-input-18-e2fd4ecdfeef>\u001b[0m in \u001b[0;36m<module>\u001b[0;34m()\u001b[0m\n\u001b[0;32m----> 1\u001b[0;31m \u001b[0;32mfor\u001b[0m \u001b[0macc\u001b[0m \u001b[0;32min\u001b[0m \u001b[0maccs\u001b[0m\u001b[0;34m:\u001b[0m\u001b[0;34m\u001b[0m\u001b[0m\n\u001b[0m\u001b[1;32m      2\u001b[0m     \u001b[0;32mif\u001b[0m \u001b[0mre\u001b[0m\u001b[0;34m.\u001b[0m\u001b[0msearch\u001b[0m\u001b[0;34m(\u001b[0m\u001b[0;34mr\"5\"\u001b[0m\u001b[0;34m,\u001b[0m \u001b[0macc\u001b[0m\u001b[0;34m)\u001b[0m\u001b[0;34m:\u001b[0m\u001b[0;34m\u001b[0m\u001b[0m\n\u001b[1;32m      3\u001b[0m         \u001b[0mprint\u001b[0m\u001b[0;34m(\u001b[0m\u001b[0;34m\"\\t\"\u001b[0m \u001b[0;34m+\u001b[0m \u001b[0macc\u001b[0m\u001b[0;34m)\u001b[0m\u001b[0;34m\u001b[0m\u001b[0m\n",
      "\u001b[0;31mNameError\u001b[0m: name 'accs' is not defined"
     ]
    }
   ],
   "source": [
    "for acc in accs:\n",
    "    if re.search(r\"5\", acc):\n",
    "        print(\"\\t\" + acc)"
   ]
  },
  {
   "cell_type": "code",
   "execution_count": null,
   "metadata": {
    "collapsed": true
   },
   "outputs": [],
   "source": []
  }
 ],
 "metadata": {
  "kernelspec": {
   "display_name": "Python 3",
   "language": "python",
   "name": "python3"
  },
  "language_info": {
   "codemirror_mode": {
    "name": "ipython",
    "version": 3
   },
   "file_extension": ".py",
   "mimetype": "text/x-python",
   "name": "python",
   "nbconvert_exporter": "python",
   "pygments_lexer": "ipython3",
   "version": "3.6.0"
  }
 },
 "nbformat": 4,
 "nbformat_minor": 2
}
